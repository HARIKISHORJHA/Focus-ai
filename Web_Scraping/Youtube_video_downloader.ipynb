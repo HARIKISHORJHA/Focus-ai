{
 "cells": [
  {
   "cell_type": "code",
   "execution_count": 1,
   "metadata": {},
   "outputs": [],
   "source": [
    "from pytube import *\n",
    "from tkinter.filedialog import askdirectory\n",
    "from time import sleep\n"
   ]
  },
  {
   "cell_type": "code",
   "execution_count": 2,
   "metadata": {},
   "outputs": [],
   "source": [
    "def download():\n",
    "    try:\n",
    "        url=input(\"Enter the url link of Youtube Video:\")\n",
    "        yt=YouTube(url)\n",
    "        videos=yt.streams.all()\n",
    "        i=1\n",
    "        for stream in videos:\n",
    "            print(str(i)+\" \"+str(stream))\n",
    "            i+=1\n",
    "            \n",
    "        path=askdirectory()\n",
    "        stream_number=int(input(\"Enter stream Number: \"))\n",
    "        video=videos[stream_number-1]\n",
    "        video.download(path)\n",
    "        print(\"Downloaded......\")\n",
    "    except Exception as e:\n",
    "        print(\"error\",e)"
   ]
  },
  {
   "cell_type": "code",
   "execution_count": 3,
   "metadata": {},
   "outputs": [
    {
     "name": "stdout",
     "output_type": "stream",
     "text": [
      "Enter the url link of Youtube Video:https://www.youtube.com/watch?v=lTTajzrSkCw\n",
      "error <urlopen error [WinError 10060] A connection attempt failed because the connected party did not properly respond after a period of time, or established connection failed because connected host has failed to respond>\n"
     ]
    }
   ],
   "source": [
    "download()"
   ]
  },
  {
   "cell_type": "code",
   "execution_count": null,
   "metadata": {},
   "outputs": [],
   "source": []
  },
  {
   "cell_type": "code",
   "execution_count": null,
   "metadata": {},
   "outputs": [],
   "source": []
  }
 ],
 "metadata": {
  "kernelspec": {
   "display_name": "Python 3",
   "language": "python",
   "name": "python3"
  },
  "language_info": {
   "codemirror_mode": {
    "name": "ipython",
    "version": 3
   },
   "file_extension": ".py",
   "mimetype": "text/x-python",
   "name": "python",
   "nbconvert_exporter": "python",
   "pygments_lexer": "ipython3",
   "version": "3.7.4"
  }
 },
 "nbformat": 4,
 "nbformat_minor": 2
}