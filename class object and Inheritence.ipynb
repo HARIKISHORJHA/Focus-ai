{
 "cells": [
  {
   "cell_type": "code",
   "execution_count": 10,
   "metadata": {},
   "outputs": [],
   "source": [
    "class Person:\n",
    "    def __init__(self,name,stream):\n",
    "        self.name=name\n",
    "        self.stream=stream\n",
    "    def display(self):\n",
    "        print(self.name,self.stream)"
   ]
  },
  {
   "cell_type": "code",
   "execution_count": 11,
   "metadata": {},
   "outputs": [
    {
     "name": "stdout",
     "output_type": "stream",
     "text": [
      "The champ is here Bca\n"
     ]
    }
   ],
   "source": [
    "person=Person(\"The champ is here\",\"Bca\")\n",
    "person.display()"
   ]
  },
  {
   "cell_type": "code",
   "execution_count": 12,
   "metadata": {},
   "outputs": [],
   "source": [
    "class Person:\n",
    "    def __init__(self,name,stream):\n",
    "        self.name=name\n",
    "        self.stream=stream\n",
    "    def display(self):\n",
    "        print(self.name+self.stream)"
   ]
  },
  {
   "cell_type": "code",
   "execution_count": 13,
   "metadata": {},
   "outputs": [
    {
     "name": "stdout",
     "output_type": "stream",
     "text": [
      "The champ is hereBca\n"
     ]
    }
   ],
   "source": [
    "person=Person(\"The champ is here\",\"Bca\")\n",
    "person.display()"
   ]
  },
  {
   "cell_type": "code",
   "execution_count": 12,
   "metadata": {},
   "outputs": [],
   "source": [
    "class Person:\n",
    "    def __init__(self,name,stream):\n",
    "        self.name=name\n",
    "        self.stream=stream\n",
    "    def display(self):\n",
    "        print(self.name,'from',self.stream)\n",
    "class Student(Person):\n",
    "    def __init__(self,name,stream,roll):\n",
    "        Person.__init__(self,name,stream) ##constructor chaining\n",
    "        self.roll=roll\n",
    "    def show(self):\n",
    "        print(self.name,self.stream,self.roll)"
   ]
  },
  {
   "cell_type": "code",
   "execution_count": 13,
   "metadata": {},
   "outputs": [
    {
     "name": "stdout",
     "output_type": "stream",
     "text": [
      "Gopal from BCA\n",
      "Gopal BCA 123\n"
     ]
    }
   ],
   "source": [
    "s=Student(\"Gopal\",\"BCA\",123)\n",
    "s.display()\n",
    "\n",
    "s.show()"
   ]
  },
  {
   "cell_type": "code",
   "execution_count": 14,
   "metadata": {},
   "outputs": [],
   "source": [
    "class College:\n",
    "    def __init__(self,firstname,lastname):\n",
    "        self.fname=firstname\n",
    "        self.lname=lastname\n",
    "    def show(self):\n",
    "        print(self.fname,self.lname)\n",
    "class Dept(College):\n",
    "    pass #after using Pass we  dont need to write any thing to access parents class "
   ]
  },
  {
   "cell_type": "code",
   "execution_count": 15,
   "metadata": {},
   "outputs": [
    {
     "name": "stdout",
     "output_type": "stream",
     "text": [
      "Gopal jha\n"
     ]
    }
   ],
   "source": [
    "dept=Dept('Gopal','jha')\n",
    "dept.show()"
   ]
  },
  {
   "cell_type": "code",
   "execution_count": 34,
   "metadata": {},
   "outputs": [],
   "source": [
    "class College:\n",
    "    def __init__(self,firstname,lastname):\n",
    "        self.fname=firstname\n",
    "        self.lname=lastname\n",
    "    def show(self):\n",
    "        print(self.fname,self.lname)\n",
    "class Dept(College):\n",
    "    def __init__(self,fname,lname,roll):\n",
    "        College.__init__(self,fname,lname)\n",
    "        self.roll=roll\n",
    "    def display(self):\n",
    "        print(self.fname,self.lname,self.roll)\n",
    "    "
   ]
  },
  {
   "cell_type": "code",
   "execution_count": 35,
   "metadata": {},
   "outputs": [
    {
     "name": "stdout",
     "output_type": "stream",
     "text": [
      "Gopal jha\n"
     ]
    }
   ],
   "source": [
    "dept=Dept(\"Gopal\",'jha',12)\n",
    "dept.show()"
   ]
  },
  {
   "cell_type": "code",
   "execution_count": 36,
   "metadata": {},
   "outputs": [
    {
     "name": "stdout",
     "output_type": "stream",
     "text": [
      "Gopal jha 12\n"
     ]
    }
   ],
   "source": [
    "dept.display()"
   ]
  },
  {
   "cell_type": "code",
   "execution_count": 45,
   "metadata": {},
   "outputs": [],
   "source": [
    "class College:\n",
    "    def __init__(self,firstname,lastname):\n",
    "        self.fname=firstname\n",
    "        self.lname=lastname\n",
    "    def show(self):\n",
    "        print(self.fname,self.lname)\n",
    "class Dept(College):\n",
    "    def __init__(self,fname,lname,roll):\n",
    "        super().__init__(fname,lname)"
   ]
  },
  {
   "cell_type": "code",
   "execution_count": 47,
   "metadata": {},
   "outputs": [
    {
     "name": "stdout",
     "output_type": "stream",
     "text": [
      "champ gll\n"
     ]
    }
   ],
   "source": [
    "dept=Dept('champ','gll',3)\n",
    "dept.show()"
   ]
  },
  {
   "cell_type": "code",
   "execution_count": null,
   "metadata": {},
   "outputs": [],
   "source": []
  }
 ],
 "metadata": {
  "kernelspec": {
   "display_name": "Python 3",
   "language": "python",
   "name": "python3"
  },
  "language_info": {
   "codemirror_mode": {
    "name": "ipython",
    "version": 3
   },
   "file_extension": ".py",
   "mimetype": "text/x-python",
   "name": "python",
   "nbconvert_exporter": "python",
   "pygments_lexer": "ipython3",
   "version": "3.7.4"
  }
 },
 "nbformat": 4,
 "nbformat_minor": 2
}
